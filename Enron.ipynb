{
 "cells": [
  {
   "metadata": {},
   "cell_type": "markdown",
   "source": "# 一、 数据准备与预处理",
   "id": "3ea74b6375c5250b"
  },
  {
   "cell_type": "code",
   "id": "initial_id",
   "metadata": {
    "collapsed": true,
    "ExecuteTime": {
     "end_time": "2025-05-10T07:36:09.241971Z",
     "start_time": "2025-05-10T07:36:09.224002Z"
    }
   },
   "source": [
    "import matplotlib.pyplot as plt\n",
    "\n",
    "from functions import *"
   ],
   "outputs": [],
   "execution_count": 123
  },
  {
   "metadata": {},
   "cell_type": "markdown",
   "source": "## 1. 加载文件内容",
   "id": "cdf4efd8eb619de0"
  },
  {
   "metadata": {
    "ExecuteTime": {
     "end_time": "2025-05-10T03:46:06.106631Z",
     "start_time": "2025-05-10T03:45:47.214789Z"
    }
   },
   "cell_type": "code",
   "source": [
    "# 指定Enron数据集的路径\n",
    "directory_path = 'Enron/EnronEmails'\n",
    "\n",
    "# 处理目录并转换为DataFrame\n",
    "# email_df = process_directory(directory_path)\n",
    "# 耗时过长 实测3h+\n",
    "\n",
    "# 读取提前处理的邮件表格\n",
    "email_df = read_email_csv(directory_path)\n",
    "\n",
    "# 显示部分数据\n",
    "# print(email_df.head())"
   ],
   "id": "e51456f9834f3a93",
   "outputs": [
    {
     "data": {
      "text/plain": [
       "读取邮件csv文件:   0%|          | 0/150 [00:00<?, ?it/s]"
      ],
      "application/vnd.jupyter.widget-view+json": {
       "version_major": 2,
       "version_minor": 0,
       "model_id": "0cacb57198154e0d9efc1f8b4c94ef81"
      }
     },
     "metadata": {},
     "output_type": "display_data"
    }
   ],
   "execution_count": 62
  },
  {
   "metadata": {
    "ExecuteTime": {
     "end_time": "2025-05-10T03:46:06.215150Z",
     "start_time": "2025-05-10T03:46:06.187097Z"
    }
   },
   "cell_type": "code",
   "source": [
    "# 读取POI邮箱地址\n",
    "poi_emails = pd.read_csv('Enron/poi_email_addresses.csv', header=None, names=['email'])\n",
    "poi_emails['email'] = poi_emails['email'].str.strip().str.lower()\n",
    "\n",
    "# 读取POI姓名列表\n",
    "with open('Enron/poi_names.txt', 'r') as f:\n",
    "    poi_names = [line.strip().split(') ')[1] for line in f if line.startswith('(')]"
   ],
   "id": "813e1a28aabed3b7",
   "outputs": [],
   "execution_count": 63
  },
  {
   "metadata": {},
   "cell_type": "markdown",
   "source": "## 2. 文件内容清洗",
   "id": "ba7d74d0597023cd"
  },
  {
   "metadata": {
    "ExecuteTime": {
     "end_time": "2025-05-10T03:46:06.323727Z",
     "start_time": "2025-05-10T03:46:06.310703Z"
    }
   },
   "cell_type": "code",
   "source": [
    "# 确保邮件数据有必要的列\n",
    "required_columns = ['From', 'To', 'Cc', 'Bcc', 'Date', 'Subject', 'Body']\n",
    "for col in required_columns:\n",
    "    if col not in email_df.columns:\n",
    "        email_df[col] = None"
   ],
   "id": "f567380bb4be959",
   "outputs": [],
   "execution_count": 64
  },
  {
   "metadata": {
    "ExecuteTime": {
     "end_time": "2025-05-10T03:46:25.588979Z",
     "start_time": "2025-05-10T03:46:06.497714Z"
    }
   },
   "cell_type": "code",
   "source": [
    "email_df['From_clean'] = email_df['From'].apply(clean_email)\n",
    "email_df['To_clean'] = email_df['To'].apply(clean_email)\n",
    "email_df['Cc_clean'] = email_df['Cc'].apply(clean_email)\n",
    "email_df['Bcc_clean'] = email_df['Bcc'].apply(clean_email)"
   ],
   "id": "8c6526f75ce6d7b9",
   "outputs": [],
   "execution_count": 65
  },
  {
   "metadata": {},
   "cell_type": "markdown",
   "source": "# 二、通信网络分析",
   "id": "59ad111ebf6564f5"
  },
  {
   "metadata": {},
   "cell_type": "markdown",
   "source": "## 1. POI识别与标记",
   "id": "59bc4d0c9778c2d3"
  },
  {
   "metadata": {
    "ExecuteTime": {
     "end_time": "2025-05-10T03:46:28.123878Z",
     "start_time": "2025-05-10T03:46:25.596978Z"
    }
   },
   "cell_type": "code",
   "source": [
    "# 使用 set 提高查找效率\n",
    "poi_set = set(poi_emails['email'])\n",
    "\n",
    "# 判断一封邮件的发送方、接收方、抄送方、密送方有无POI\n",
    "email_df['from_poi'] = email_df['From_clean'].apply(lambda x: is_poi_involved(x, poi_set))\n",
    "email_df['to_poi'] = email_df['To_clean'].apply(lambda x: is_poi_involved(x, poi_set))\n",
    "email_df['cc_poi'] = email_df['Cc_clean'].apply(lambda x: is_poi_involved(x, poi_set))\n",
    "email_df['bcc_poi'] = email_df['Bcc_clean'].apply(lambda x: is_poi_involved(x, poi_set))\n",
    "\n",
    "# 标记是否为POI相关邮件\n",
    "email_df['poi_related'] = email_df['from_poi'] | email_df['to_poi'] | email_df['cc_poi'] | email_df['bcc_poi']"
   ],
   "id": "76cdc459cf048d45",
   "outputs": [],
   "execution_count": 66
  },
  {
   "metadata": {
    "ExecuteTime": {
     "end_time": "2025-05-10T03:46:28.248067Z",
     "start_time": "2025-05-10T03:46:28.220637Z"
    }
   },
   "cell_type": "code",
   "source": [
    "# 提取POI之间的通信关系\n",
    "# ：提取那些“发件人是 POI 且收件人中至少有一位也是 POI”的邮件记录，即只保留 POI 与 POI 之间的通信记录。\n",
    "poi_communications = email_df[\n",
    "    (email_df['from_poi']) & # 发件人是POI\n",
    "    (email_df['to_poi'] | email_df['cc_poi'] | email_df['bcc_poi']) # 收件人是POI\n",
    "].copy()\n",
    "\n",
    "# 可以进一步分析POI之间的通信频率、时间模式等"
   ],
   "id": "9cb31eeec5d55e8a",
   "outputs": [],
   "execution_count": 67
  },
  {
   "metadata": {},
   "cell_type": "markdown",
   "source": "## 2. 将POI通信信息转化为图",
   "id": "fa4eba1b10e7a71b"
  },
  {
   "metadata": {
    "ExecuteTime": {
     "end_time": "2025-05-10T03:46:28.497088Z",
     "start_time": "2025-05-10T03:46:28.346070Z"
    }
   },
   "cell_type": "code",
   "source": [
    "# 创建图对象（可换成 nx.DiGraph() 构建有向图）\n",
    "G_poi = nx.Graph()\n",
    "\n",
    "# 添加节点和边\n",
    "for _, row in poi_communications.iterrows():\n",
    "    sender = row['From_clean'][0] if row['From_clean'] else None\n",
    "    recipients = row['To_clean'] + row['Cc_clean'] + row['Bcc_clean']\n",
    "    \n",
    "    for recipient in recipients:\n",
    "        if sender and recipient and sender != recipient:\n",
    "            G_poi.add_edge(sender, recipient)\n"
   ],
   "id": "cee35f31067c7621",
   "outputs": [],
   "execution_count": 68
  },
  {
   "metadata": {},
   "cell_type": "markdown",
   "source": "## 3. 计算各个POI的中心性",
   "id": "feb2574ace5694e0"
  },
  {
   "metadata": {
    "ExecuteTime": {
     "end_time": "2025-05-10T07:34:46.133778Z",
     "start_time": "2025-05-10T07:34:19.773436Z"
    }
   },
   "cell_type": "code",
   "source": [
    "# 度中心性（联系数量）\n",
    "degree_centrality = nx.degree_centrality(G_poi)\n",
    "\n",
    "# 介数中心性（信息中转重要性）\n",
    "betweenness_centrality = nx.betweenness_centrality(G_poi)\n",
    "\n",
    "# 特征向量中心性（影响力衡量）\n",
    "eigenvector_centrality = nx.eigenvector_centrality(G_poi)\n",
    "\n",
    "# 构建 DataFrame 查看排名\n",
    "centrality_df = pd.DataFrame({\n",
    "    'email': list(degree_centrality.keys()),\n",
    "    'degree': list(degree_centrality.values()),\n",
    "    'betweenness': list(betweenness_centrality.values()),\n",
    "    'eigenvector': list(eigenvector_centrality.values())\n",
    "}).sort_values(by='degree', ascending=False)\n",
    "\n",
    "centrality_df = centrality_df.set_index('email')\n"
   ],
   "id": "aaf7b98e4a502147",
   "outputs": [],
   "execution_count": 115
  },
  {
   "metadata": {},
   "cell_type": "markdown",
   "source": "## 4. 输出POI中心性排序",
   "id": "c43711755e81c277"
  },
  {
   "metadata": {
    "ExecuteTime": {
     "end_time": "2025-05-10T08:31:20.618487Z",
     "start_time": "2025-05-10T08:31:17.348457Z"
    }
   },
   "cell_type": "code",
   "source": [
    "# 设置绘图风格\n",
    "sns.set_theme(style=\"whitegrid\")\n",
    "\n",
    "# 创建子图布局\n",
    "fig, axes = plt.subplots(1, 3, figsize=(18, 6), sharey=True)\n",
    "\n",
    "# 度中心性\n",
    "top_degree = centrality_df.sort_values('degree', ascending=False).head(10)\n",
    "sns.barplot(data=top_degree, y='email', x='degree', palette='Blues_d', ax=axes[0],hue='email')\n",
    "axes[0].set_title('Degree Centrality')\n",
    "axes[0].set_xlabel('Score')\n",
    "axes[0].set_ylabel('Email')\n",
    "\n",
    "# 介数中心性\n",
    "top_betweenness = centrality_df.sort_values('betweenness', ascending=False).head(10)\n",
    "sns.barplot(data=top_betweenness, y='email', x='betweenness', palette='Greens_d', ax=axes[1],hue='email')\n",
    "axes[1].set_title('Betweenness Centrality')\n",
    "axes[1].set_xlabel('Score')\n",
    "axes[1].set_ylabel('')  # 避免重复\n",
    "\n",
    "# 特征向量中心性\n",
    "top_eigenvector = centrality_df.sort_values('eigenvector', ascending=False).head(10)\n",
    "sns.barplot(data=top_eigenvector, y='email', x='eigenvector', palette='Purples_d', ax=axes[2],hue='email')\n",
    "axes[2].set_title('Eigenvector Centrality')\n",
    "axes[2].set_xlabel('Score')\n",
    "axes[2].set_ylabel('')\n",
    "\n",
    "# 自动调整布局防止重叠\n",
    "plt.tight_layout()\n",
    "plt.suptitle(\"Top 10 POI Nodes by Centrality Measures\", fontsize=16, y=1.03)\n",
    "\n",
    "plt.savefig('results/Top 10 POI Nodes by Centrality Measures.pdf', dpi=300, bbox_inches='tight')\n",
    "plt.show()"
   ],
   "id": "9004b254dd0e6ac7",
   "outputs": [
    {
     "data": {
      "text/plain": [
       "<Figure size 1800x600 with 3 Axes>"
      ],
      "image/png": "[encoded data removed]"
     },
     "metadata": {},
     "output_type": "display_data"
    }
   ],
   "execution_count": 149
  },
  {
   "metadata": {},
   "cell_type": "markdown",
   "source": "# 三、邮件内容分析",
   "id": "30e467e945a6501b"
  },
  {
   "metadata": {},
   "cell_type": "markdown",
   "source": "## 1. 提取邮件特征",
   "id": "9d6436c40418a10c"
  },
  {
   "metadata": {
    "ExecuteTime": {
     "end_time": "2025-05-10T07:34:49.390563Z",
     "start_time": "2025-05-10T07:34:47.976016Z"
    }
   },
   "cell_type": "code",
   "source": [
    "# 邮件基本特征\n",
    "email_df['body_length'] = email_df['Body'].str.len()\n",
    "email_df['subject_length'] = email_df['Subject'].str.len()\n",
    "email_df['num_recipients'] = email_df['To_clean'].apply(len) + email_df['Cc_clean'].apply(len) + email_df['Bcc_clean'].apply(len)\n",
    "email_df['has_attachment'] = email_df['Attachments'].apply(lambda x: len(x) > 0 if isinstance(x, list) else False)"
   ],
   "id": "d60909f852be2e2c",
   "outputs": [],
   "execution_count": 117
  },
  {
   "metadata": {
    "ExecuteTime": {
     "end_time": "2025-05-10T07:34:49.610073Z",
     "start_time": "2025-05-10T07:34:49.504533Z"
    }
   },
   "cell_type": "code",
   "source": [
    "# 时间特征\n",
    "email_df['Date'] = pd.to_datetime(email_df['Date'],utc=True)\n",
    "\n",
    "email_df['hour'] = email_df['Date'].dt.hour\n",
    "email_df['day_of_week'] = email_df['Date'].dt.dayofweek\n",
    "email_df['is_weekend'] = email_df['day_of_week'].isin([5, 6])"
   ],
   "id": "c2fb7a4be4210fcc",
   "outputs": [],
   "execution_count": 118
  },
  {
   "metadata": {},
   "cell_type": "markdown",
   "source": "## 2. 提取邮件正文TF-IDF特征",
   "id": "4ccc3707d8e882c3"
  },
  {
   "metadata": {
    "ExecuteTime": {
     "end_time": "2025-05-10T07:35:11.071713Z",
     "start_time": "2025-05-10T07:34:49.722293Z"
    }
   },
   "cell_type": "code",
   "source": [
    "# TF-IDF特征提取时间较长，运行时保存方便下次运行节省时间\n",
    "# 检查是否已有保存文件\n",
    "tfidf_matrix_path = 'artifacts/tfidf_features.npz'\n",
    "vectorizer_path = 'artifacts/tfidf_vectorizer.pkl'\n",
    "cleaned_df_path = 'artifacts/email_df_cleaned.pkl'\n",
    "\n",
    "if os.path.exists(tfidf_matrix_path) and os.path.exists(vectorizer_path) and os.path.exists(cleaned_df_path):\n",
    "    print(\"加载已保存的 TF-IDF 特征...\")\n",
    "    tfidf_features = sparse.load_npz(tfidf_matrix_path)\n",
    "    tfidf = joblib.load(vectorizer_path)\n",
    "    email_df = pd.read_pickle(cleaned_df_path)\n",
    "else:\n",
    "    print(\"开始清洗正文并提取 TF-IDF 特征...\")\n",
    "\n",
    "    email_df['clean_body'] = email_df['Body'].apply(clean_text)\n",
    "    \n",
    "    # 提取 TF-IDF 特征\n",
    "    \n",
    "    # TF-IDF 特征提取器，用于将文本转换为数值特征\n",
    "    tfidf = TfidfVectorizer(max_features=1000, stop_words='english')\n",
    "    # 把上面的模型应用到数据上，生成了稀疏的特征矩阵\n",
    "    tfidf_features = tfidf.fit_transform(email_df['clean_body'])\n",
    "\n",
    "    # 保存结果\n",
    "    sparse.save_npz(tfidf_matrix_path, tfidf_features)\n",
    "    joblib.dump(tfidf, vectorizer_path)\n",
    "    email_df.to_pickle(cleaned_df_path)\n",
    "    print(\"已保存 TF-IDF 特征和清洗后的数据\")"
   ],
   "id": "c33d8c350c896237",
   "outputs": [
    {
     "name": "stdout",
     "output_type": "stream",
     "text": [
      "加载已保存的 TF-IDF 特征...\n"
     ]
    }
   ],
   "execution_count": 119
  },
  {
   "metadata": {},
   "cell_type": "markdown",
   "source": "## 3. 提取可疑特征",
   "id": "a3dbc347e7dc7f83"
  },
  {
   "metadata": {
    "ExecuteTime": {
     "end_time": "2025-05-10T07:35:25.489957Z",
     "start_time": "2025-05-10T07:35:11.202146Z"
    }
   },
   "cell_type": "code",
   "source": [
    "# 可疑关键词检测\n",
    "fraud_keywords = ['confidential', 'urgent', 'secret', 'destroy', 'shred', 'cover up',\n",
    "                 'mislead', 'misrepresent', 'fraud', 'illegal', 'off the record']\n",
    "\n",
    "for keyword in fraud_keywords:\n",
    "    email_df[f'contains_{keyword}'] = email_df['clean_body'].str.contains(keyword)\n",
    "\n",
    "# 非工作时间发送的邮件\n",
    "email_df['after_hours'] = (email_df['hour'] < 8) | (email_df['hour'] > 18)\n",
    "\n",
    "# 大量密送的邮件\n",
    "email_df['high_bcc'] = email_df['Bcc_clean'].apply(len) > 5"
   ],
   "id": "501a357ebd5b51cf",
   "outputs": [],
   "execution_count": 120
  },
  {
   "metadata": {},
   "cell_type": "markdown",
   "source": "## 4.提取POI中心性特征",
   "id": "42f6b64d51b4e7e3"
  },
  {
   "metadata": {
    "ExecuteTime": {
     "end_time": "2025-05-10T07:36:48.313899Z",
     "start_time": "2025-05-10T07:36:48.305905Z"
    }
   },
   "cell_type": "code",
   "source": [
    "def get_centrality(sender_list, centrality_df):\n",
    "    sender = sender_list[0] if sender_list else None\n",
    "    if sender in centrality_df.index:\n",
    "        return centrality_df.loc[sender].values  # 返回 degree, betweenness, eigenvector\n",
    "    else:\n",
    "        return np.zeros(3)"
   ],
   "id": "63d620bc283816bc",
   "outputs": [],
   "execution_count": 125
  },
  {
   "metadata": {
    "ExecuteTime": {
     "end_time": "2025-05-10T07:37:01.744051Z",
     "start_time": "2025-05-10T07:36:48.386908Z"
    }
   },
   "cell_type": "code",
   "source": [
    "# 构建中心性特征矩阵\n",
    "centrality_features = np.array([\n",
    "    get_centrality(sender,centrality_df) for sender in email_df['From_clean']\n",
    "])"
   ],
   "id": "f463058ac3283e58",
   "outputs": [],
   "execution_count": 126
  },
  {
   "metadata": {
    "ExecuteTime": {
     "end_time": "2025-05-10T07:37:01.915330Z",
     "start_time": "2025-05-10T07:37:01.855633Z"
    }
   },
   "cell_type": "code",
   "source": "centrality_sparse = csr_matrix(centrality_features)",
   "id": "7c96cafc2a1a2126",
   "outputs": [],
   "execution_count": 127
  },
  {
   "metadata": {},
   "cell_type": "markdown",
   "source": "## 5. 欺诈检测模型构建",
   "id": "ef6dad1b2577c52c"
  },
  {
   "metadata": {},
   "cell_type": "markdown",
   "source": "### (1) 训练数据准备",
   "id": "b567e0bf36966afb"
  },
  {
   "metadata": {
    "ExecuteTime": {
     "end_time": "2025-05-10T07:37:02.055849Z",
     "start_time": "2025-05-10T07:37:02.029426Z"
    }
   },
   "cell_type": "code",
   "source": "email_df['poi_related'].value_counts(normalize=True)",
   "id": "8988f1c42a6c89b6",
   "outputs": [
    {
     "data": {
      "text/plain": [
       "poi_related\n",
       "False    0.941875\n",
       "True     0.058125\n",
       "Name: proportion, dtype: float64"
      ]
     },
     "execution_count": 128,
     "metadata": {},
     "output_type": "execute_result"
    }
   ],
   "execution_count": 128
  },
  {
   "metadata": {
    "ExecuteTime": {
     "end_time": "2025-05-10T07:37:03.416850Z",
     "start_time": "2025-05-10T07:37:02.244637Z"
    }
   },
   "cell_type": "code",
   "source": [
    "# 确保数值特征为float类型\n",
    "numerical_features = email_df[['body_length', 'subject_length', 'num_recipients', \n",
    "                             'hour', 'day_of_week']].astype(float).values\n",
    "\n",
    "# 确保布尔特征为float类型\n",
    "bool_features = email_df[[f'contains_{k}' for k in fraud_keywords]].astype(float).values\n",
    "\n",
    "# 合并所有特征\n",
    "X = hstack([\n",
    "    tfidf_features,\n",
    "    numerical_features,\n",
    "    email_df[['has_attachment', 'is_weekend', 'after_hours', 'high_bcc']].astype(float).values,\n",
    "    bool_features,\n",
    "    centrality_sparse\n",
    "])\n",
    "\n",
    "y = email_df['poi_related'].values"
   ],
   "id": "d162e8db701289d3",
   "outputs": [],
   "execution_count": 129
  },
  {
   "metadata": {
    "ExecuteTime": {
     "end_time": "2025-05-10T07:39:35.350476Z",
     "start_time": "2025-05-10T07:37:03.497862Z"
    }
   },
   "cell_type": "code",
   "source": [
    "# 平衡样本\n",
    "X = X.toarray()\n",
    "X.data = np.nan_to_num(X.data, nan=0)\n",
    "\n",
    "print(f\"原始样本分布: {Counter(y)}\")\n",
    "\n",
    "smote = SMOTE(random_state=42)\n",
    "X_resampled, y_resampled = smote.fit_resample(X, y)\n",
    "\n",
    "print(f\"平衡后样本分布: {Counter(y_resampled)}\")"
   ],
   "id": "17452ab6f934e89f",
   "outputs": [
    {
     "name": "stderr",
     "output_type": "stream",
     "text": [
      "C:\\Users\\79387\\AppData\\Local\\Temp\\ipykernel_5224\\2438980280.py:6: DeprecationWarning: Assigning the 'data' attribute is an inherently unsafe operation and will be removed in the future.\n",
      "  X.data = np.nan_to_num(X.data, nan=0)\n"
     ]
    },
    {
     "name": "stdout",
     "output_type": "stream",
     "text": [
      "原始样本分布: Counter({False: 487316, True: 30073})\n",
      "平衡后样本分布: Counter({False: 487316, True: 487316})\n"
     ]
    }
   ],
   "execution_count": 130
  },
  {
   "metadata": {},
   "cell_type": "markdown",
   "source": "### (2) 模型训练与评估",
   "id": "d72d86424b61a014"
  },
  {
   "metadata": {
    "ExecuteTime": {
     "end_time": "2025-05-10T07:43:13.351544Z",
     "start_time": "2025-05-10T07:39:36.426792Z"
    }
   },
   "cell_type": "code",
   "source": [
    "model_path = 'artifacts/rf_model.pkl'\n",
    "\n",
    "# 1. 数据预处理\n",
    "X.data = np.nan_to_num(X.data, nan=0)\n",
    "\n",
    "# 2. 训练或加载模型\n",
    "print('正在分割数据')\n",
    "X_train, X_test, y_train, y_test = train_test_split(X, y, test_size=0.2, random_state=42)\n",
    "\n",
    "if os.path.exists(model_path):\n",
    "    print('加载已有模型')\n",
    "    model = joblib.load(model_path)\n",
    "    \n",
    "else:\n",
    "    print('正在训练模型')\n",
    "    model = RandomForestClassifier(n_estimators=100, random_state=42, verbose=1, n_jobs=-1,class_weight='balanced')\n",
    "    model.fit(X_train, y_train)\n",
    "\n",
    "    print('正在保存模型')\n",
    "    joblib.dump(model, model_path)\n",
    "\n",
    "print('正在评估模型')\n",
    "y_pred = model.predict(X_test)\n",
    "print(classification_report(y_test, y_pred))\n"
   ],
   "id": "20428ff5ffcb8fb4",
   "outputs": [
    {
     "name": "stderr",
     "output_type": "stream",
     "text": [
      "C:\\Users\\79387\\AppData\\Local\\Temp\\ipykernel_5224\\1643088647.py:10: DeprecationWarning: Assigning the 'data' attribute is an inherently unsafe operation and will be removed in the future.\n",
      "  X.data = np.nan_to_num(X.data, nan=0)\n"
     ]
    },
    {
     "name": "stdout",
     "output_type": "stream",
     "text": [
      "正在分割数据\n",
      "正在训练模型\n"
     ]
    },
    {
     "name": "stderr",
     "output_type": "stream",
     "text": [
      "[Parallel(n_jobs=-1)]: Using backend ThreadingBackend with 16 concurrent workers.\n",
      "[Parallel(n_jobs=-1)]: Done  18 tasks      | elapsed:   49.9s\n",
      "[Parallel(n_jobs=-1)]: Done 100 out of 100 | elapsed:  2.9min finished\n"
     ]
    },
    {
     "name": "stdout",
     "output_type": "stream",
     "text": [
      "正在保存模型\n",
      "正在评估模型\n"
     ]
    },
    {
     "name": "stderr",
     "output_type": "stream",
     "text": [
      "[Parallel(n_jobs=16)]: Using backend ThreadingBackend with 16 concurrent workers.\n",
      "[Parallel(n_jobs=16)]: Done  18 tasks      | elapsed:    0.2s\n",
      "[Parallel(n_jobs=16)]: Done 100 out of 100 | elapsed:    1.1s finished\n"
     ]
    },
    {
     "name": "stdout",
     "output_type": "stream",
     "text": [
      "              precision    recall  f1-score   support\n",
      "\n",
      "       False       0.99      1.00      1.00     97511\n",
      "        True       0.99      0.87      0.93      5967\n",
      "\n",
      "    accuracy                           0.99    103478\n",
      "   macro avg       0.99      0.93      0.96    103478\n",
      "weighted avg       0.99      0.99      0.99    103478\n",
      "\n"
     ]
    }
   ],
   "execution_count": 131
  },
  {
   "metadata": {},
   "cell_type": "markdown",
   "source": "### (3) 输出最重要的特征",
   "id": "720e1b84cbabdccf"
  },
  {
   "metadata": {
    "ExecuteTime": {
     "end_time": "2025-05-10T07:46:21.899457Z",
     "start_time": "2025-05-10T07:46:21.814146Z"
    }
   },
   "cell_type": "code",
   "source": [
    "# 获取TF-IDF特征名\n",
    "tfidf_feature_names = tfidf.get_feature_names_out()\n",
    "\n",
    "# 其他特征名\n",
    "other_feature_names = np.array([\n",
    "    'body_length', 'subject_length', 'num_recipients', 'has_attachment',\n",
    "    'hour', 'day_of_week', 'is_weekend', 'after_hours', 'high_bcc'\n",
    "] + [f'contains_{k}' for k in fraud_keywords]+ \\\n",
    "    ['degree', 'betweenness', 'eigenvector'])\n",
    "\n",
    "# 正确合并特征名\n",
    "feature_names = np.concatenate([tfidf_feature_names, other_feature_names])\n",
    "\n",
    "# 创建DataFrame\n",
    "feature_importance_df = pd.DataFrame({\n",
    "    'feature': feature_names,\n",
    "    'importance': model.feature_importances_\n",
    "}).sort_values('importance', ascending=False).head(20)\n",
    "\n",
    "print(feature_importance_df['feature'])"
   ],
   "id": "cf06df6b2d0ef1a6",
   "outputs": [
    {
     "name": "stdout",
     "output_type": "stream",
     "text": [
      "1002    num_recipients\n",
      "1020            degree\n",
      "1022       eigenvector\n",
      "1021       betweenness\n",
      "1000       body_length\n",
      "1001    subject_length\n",
      "879            subject\n",
      "519                lay\n",
      "1008          high_bcc\n",
      "506                ken\n",
      "488               jeff\n",
      "176                 cc\n",
      "1003    has_attachment\n",
      "758            regards\n",
      "710              power\n",
      "914                tim\n",
      "129           attached\n",
      "203                com\n",
      "264              david\n",
      "312                ect\n",
      "Name: feature, dtype: object\n"
     ]
    }
   ],
   "execution_count": 133
  },
  {
   "metadata": {},
   "cell_type": "markdown",
   "source": "## 6. 输出特征重要性",
   "id": "e94b39359ffc7dbe"
  },
  {
   "metadata": {
    "ExecuteTime": {
     "end_time": "2025-05-10T08:32:27.958509Z",
     "start_time": "2025-05-10T08:32:26.271974Z"
    }
   },
   "cell_type": "code",
   "source": [
    "# 设置画图风格\n",
    "sns.set_theme(style=\"whitegrid\")\n",
    "\n",
    "# 提取前20个重要特征\n",
    "top_features = feature_importance_df.head(20)\n",
    "\n",
    "# 创建柱状图\n",
    "plt.figure(figsize=(10, 6))\n",
    "sns.barplot(\n",
    "    data=top_features,\n",
    "    x='importance',\n",
    "    y='feature',\n",
    "    hue='feature',      \n",
    "    palette='viridis',\n",
    "    dodge=False         \n",
    ")\n",
    "\n",
    "# 设置标题和标签\n",
    "plt.title('Top 20 Important Features')\n",
    "plt.xlabel('Importance Score')\n",
    "plt.ylabel('Feature Name')\n",
    "\n",
    "# 展示图表\n",
    "plt.tight_layout()\n",
    "plt.savefig('results/Top 20 Important Features.pdf', dpi=300, bbox_inches='tight')\n",
    "plt.show()"
   ],
   "id": "c6908b01577adea1",
   "outputs": [
    {
     "data": {
      "text/plain": [
       "<Figure size 1000x600 with 1 Axes>"
      ],
      "image/png": "[encoded data removed]"
     },
     "metadata": {},
     "output_type": "display_data"
    }
   ],
   "execution_count": 150
  },
  {
   "metadata": {},
   "cell_type": "markdown",
   "source": "## 7. 欺诈模型应用",
   "id": "22d901fa28045aa1"
  },
  {
   "metadata": {},
   "cell_type": "markdown",
   "source": "### (1) 识别邮件风险分数",
   "id": "c7b22d11e1ee0431"
  },
  {
   "metadata": {
    "ExecuteTime": {
     "end_time": "2025-05-10T08:23:20.170647Z",
     "start_time": "2025-05-10T08:22:59.676685Z"
    }
   },
   "cell_type": "code",
   "source": [
    "# 预测所有邮件的风险分数\n",
    "email_df['fraud_score'] = model.predict_proba(X)[:, 1]\n",
    "\n",
    "# 将 fraud_score 转换为百分比格式，保留两位小数\n",
    "email_df['fraud_score_percent'] = (email_df['fraud_score'] * 100).round(2)\n",
    "\n",
    "# 只保留相关字段\n",
    "email_score_df = email_df[[\n",
    "    'From', 'To', 'Cc', 'Bcc',\n",
    "    'fraud_score'\n",
    "]]\n",
    "\n",
    "# 保存为 CSV 文件\n",
    "email_score_df.to_csv('results/email_risk_scores.csv', index=False, encoding='utf-8')\n",
    "\n",
    "# 获取随机50封邮件并显示百分比形式的风险分数\n",
    "random_50_emails = email_df.sample(n=50)\n",
    "random_50_emails[['From', 'To', 'Subject', 'Date', 'fraud_score_percent']]\n"
   ],
   "id": "d7f5268fc379a476",
   "outputs": [
    {
     "name": "stderr",
     "output_type": "stream",
     "text": [
      "[Parallel(n_jobs=16)]: Using backend ThreadingBackend with 16 concurrent workers.\n",
      "[Parallel(n_jobs=16)]: Done  18 tasks      | elapsed:    2.1s\n",
      "[Parallel(n_jobs=16)]: Done 100 out of 100 | elapsed:    7.1s finished\n"
     ]
    },
    {
     "data": {
      "text/plain": [
       "                                          From  \\\n",
       "87679                     pete.davis@enron.com   \n",
       "155335                  paul.devries@enron.com   \n",
       "314985                      kay.mann@enron.com   \n",
       "398390               richard.sanders@enron.com   \n",
       "301575                      kay.mann@enron.com   \n",
       "102647                  megan.parker@enron.com   \n",
       "50899                      e..carter@enron.com   \n",
       "402169                     tk.lohman@enron.com   \n",
       "510881                    pete.davis@enron.com   \n",
       "38990                    shirley.cox@enron.com   \n",
       "482707                  nina.edmonds@enron.com   \n",
       "92671            announcements.enron@enron.com   \n",
       "490517                 jeff.dasovich@enron.com   \n",
       "88082                  kayne.coulter@enron.com   \n",
       "230266                 jeff.dasovich@enron.com   \n",
       "248133                   steven.kean@enron.com   \n",
       "317242                      kay.mann@enron.com   \n",
       "339235       about-healthextra@aboutdirect.net   \n",
       "295130                       m..love@enron.com   \n",
       "186273               sara.shackleton@enron.com   \n",
       "362281             debra.perlingiere@enron.com   \n",
       "261213                     ron.coker@enron.com   \n",
       "53438                 shelley.corman@enron.com   \n",
       "284235               rudy.sutherland@enron.com   \n",
       "368857                   nytdirect@nytimes.com   \n",
       "252824                  peter.keavey@enron.com   \n",
       "74753                harry.kingerski@enron.com   \n",
       "257494                louise.kitchen@enron.com   \n",
       "64476                    margo.reyna@enron.com   \n",
       "150363                    pete.davis@enron.com   \n",
       "65424                  jeff.dasovich@enron.com   \n",
       "362325             debra.perlingiere@enron.com   \n",
       "17396                      eric.bass@enron.com   \n",
       "183418                brad.schneider@enron.com   \n",
       "512852                  beth.cherry@enform.com   \n",
       "276860                 lisa.gillette@enron.com   \n",
       "458690                 chris.stokley@enron.com   \n",
       "283873                    pete.davis@enron.com   \n",
       "439704  houstonbroadwayseries@clearchannel.com   \n",
       "4703      george.ellis@americas.bnpparibas.com   \n",
       "44767                       rd_cates@yahoo.com   \n",
       "34562                   outlook.team@enron.com   \n",
       "232909               richard.shapiro@enron.com   \n",
       "447967                    matt.smith@enron.com   \n",
       "503542                    liz.taylor@enron.com   \n",
       "49176                   simone.lewis@enron.com   \n",
       "41063                 larry.campbell@enron.com   \n",
       "328112                mike.mcconnell@enron.com   \n",
       "63025                 ginger.dernehl@enron.com   \n",
       "439804                      sue.nord@enron.com   \n",
       "\n",
       "                                                       To  \\\n",
       "87679                                pete.davis@enron.com   \n",
       "155335                          stephen.douglas@enron.com   \n",
       "314985                        matthew.gockerman@enron.com   \n",
       "398390                                ctetrault@velaw.com   \n",
       "301575                            suzanne.adams@enron.com   \n",
       "102647                             daren.farmer@enron.com   \n",
       "50899                          monika.causholli@enron.com   \n",
       "402169  vincent.strohmeyer@enron.com, debbie.moseley@e...   \n",
       "510881                               pete.davis@enron.com   \n",
       "38990   clement.abrams@enron.com, naveen.andrews@enron...   \n",
       "482707                              mark.taylor@enron.com   \n",
       "92671         dl-ga-all_enron_houston_employees@enron.com   \n",
       "490517  barry.tycholiz@enron.com, f..calger@enron.com,...   \n",
       "88082   jim.homco@enron.com, lloyd.will@enron.com, jef...   \n",
       "230266  alan.comnes@enron.com, angela.schwarz@enron.co...   \n",
       "248133                                               None   \n",
       "317242                               wmontjoy@brunini.com   \n",
       "339235                                    pmims@enron.com   \n",
       "295130                              lisa.kinsey@enron.com   \n",
       "186273                               tana.jones@enron.com   \n",
       "362281                               kdirks@utilicorp.com   \n",
       "261213                               eric.thode@enron.com   \n",
       "53438                             alma.carrillo@enron.com   \n",
       "284235                             anthony.tran@enron.com   \n",
       "368857                                    brapp@enron.com   \n",
       "252824     dale.neuner@enron.com, david.forster@enron.com   \n",
       "74753                           harry.kingerski@enron.com   \n",
       "257494                             greg.whalley@enron.com   \n",
       "64476   sue.nord@enron.com, scott.bolton@enron.com, tr...   \n",
       "150363                               pete.davis@enron.com   \n",
       "65424                                 cameron@perfect.com   \n",
       "362325                           tammi.depaolis@enron.com   \n",
       "17396                            daphneco64@bigplanet.com   \n",
       "183418                               tana.jones@enron.com   \n",
       "512852                              jason.wolfe@enron.com   \n",
       "276860                          matthew.lenhart@enron.com   \n",
       "458690                                  40enron@enron.com   \n",
       "283873                               pete.davis@enron.com   \n",
       "439704                                 rshapiro@enron.com   \n",
       "4703                 george.ellis@americas.bnpparibas.com   \n",
       "44767                            larry.campbell@enron.com   \n",
       "34562                                                None   \n",
       "232909                              steven.kean@enron.com   \n",
       "447967                          andrea.richards@enron.com   \n",
       "503542                            richard.lewis@enron.com   \n",
       "49176   michelle.cash@enron.com, chris.rahaim@enron.co...   \n",
       "41063               william.kendrick.enronxgate@enron.com   \n",
       "328112                                per.sekse@enron.com   \n",
       "63025   alan.comnes@enron.com, aleck.dadson@enron.com,...   \n",
       "439804                          richard.shapiro@enron.com   \n",
       "\n",
       "                                                  Subject  \\\n",
       "87679   Start Date: 10/9/01; HourAhead hour: 20;  <COD...   \n",
       "155335  Re: Tax Planning - Privileged Solicitor/Client...   \n",
       "314985                          CA I and II Bills of Sale   \n",
       "398390                                            Re: DOJ   \n",
       "301575                                          Coop City   \n",
       "102647             Re: Duke Cashout Entries 5/00 and 6/00   \n",
       "50899                           RE: Chilean pulp capacity   \n",
       "402169                                      Confirmations   \n",
       "510881            Start Date: 1/31/02; HourAhead hour: 3;   \n",
       "38990                         Mid-Year Purge - PEP System   \n",
       "482707  Re: Bankruptcy Swaps with Canadian Reference E...   \n",
       "92671   Metro Bus Passes and Woodlands Express Passes ...   \n",
       "490517         Reaction to PG&E's Proposed Reorganization   \n",
       "88082                               clarksdale generation   \n",
       "230266     Comments /Letter--DWR Credit and Direct Access   \n",
       "248133                                      Rick to Cover   \n",
       "317242                                         Clarksdale   \n",
       "339235        Play Now! - Choose from over 35 gift items!   \n",
       "295130                    RE: meeting with our two groups   \n",
       "186273                          Lotus Notes Database link   \n",
       "362281            Re: Response to HPL's requested changes   \n",
       "261213  Re: DRAFT PRESS RELEASE: Sale of Pastoria to C...   \n",
       "53438   RE: Possibily of Delaying/Postponing Tomorrow'...   \n",
       "284235  RE: Reply Requested: Do You Code Or Approve In...   \n",
       "368857  Today's Headlines from NYTimes.com Tuesday, No...   \n",
       "252824                                    gas daily index   \n",
       "74753   Re: Rate design for 3 cent Rate increase for P...   \n",
       "257494  FW: Letter to Stephen Baum re Solicitation of ...   \n",
       "64476                                            Articles   \n",
       "150363  Start Date: 4/22/01; HourAhead hour: 6;  <CODE...   \n",
       "65424                                      RE: you and me   \n",
       "362325                        ProLiance Energy, LLC  GISB   \n",
       "17396          Re: ArcaMax Weird News for August 11, 2000   \n",
       "183418                       New ISDA - Enron Midwest LLC   \n",
       "512852                    RE: The Mask of Everlasting Joy   \n",
       "276860                         RE: FW: Happy Hour Tonight   \n",
       "458690  RE: Reschedule - Chris Stokley & Paige - 3AC16...   \n",
       "283873     Schedule Crawler: HourAhead Failure <CODESITE>   \n",
       "439704  Broadway Across America - Ticket Request Proce...   \n",
       "4703                          NYMEX Thanksgiving Schedule   \n",
       "44767                       Re: Fwd: Fw: Fwd: Fw: husband   \n",
       "34562                           John Buchanan on vacation   \n",
       "232909                                     Attached Files   \n",
       "447967                             Re: Associate Rotation   \n",
       "503542                          Whalley's Visit to London   \n",
       "49176   Mergers, Acquisitions and Divestitures checklists   \n",
       "41063   Re: FW: Mewborne - Quercho Bone Springs Unit -...   \n",
       "328112                                      Signed dashes   \n",
       "63025              FERC Staff Report on Northeast Markets   \n",
       "439804                               Re: One view from DC   \n",
       "\n",
       "                            Date  fraud_score_percent  \n",
       "87679  2001-10-10 00:38:23+00:00                  0.0  \n",
       "155335 2000-11-16 14:08:00+00:00                  2.0  \n",
       "314985 2001-01-10 11:13:00+00:00                  0.0  \n",
       "398390 2000-03-07 20:18:00+00:00                  0.0  \n",
       "301575 2001-01-04 18:00:00+00:00                  1.0  \n",
       "102647 2000-10-05 17:08:00+00:00                  0.0  \n",
       "50899  2001-10-17 16:02:05+00:00                  0.0  \n",
       "402169 2002-02-08 14:52:12+00:00                  0.0  \n",
       "510881 2002-01-31 12:37:04+00:00                  0.0  \n",
       "38990  2001-08-29 20:01:13+00:00                  8.0  \n",
       "482707 2000-05-16 15:15:00+00:00                  0.0  \n",
       "92671  2001-12-28 17:04:54+00:00                  0.0  \n",
       "490517 2001-09-21 17:06:15+00:00                 89.0  \n",
       "88082  2001-05-15 07:35:00+00:00                  0.0  \n",
       "230266 2001-03-02 19:42:00+00:00                100.0  \n",
       "248133 1997-09-16 08:00:00+00:00                  0.0  \n",
       "317242 2001-06-05 06:25:00+00:00                  0.0  \n",
       "339235 2001-11-07 04:04:45+00:00                  0.0  \n",
       "295130 2001-10-11 18:36:49+00:00                  1.0  \n",
       "186273 2000-11-22 16:23:00+00:00                  0.0  \n",
       "362281 2000-11-02 14:52:00+00:00                  0.0  \n",
       "261213 2001-03-20 02:29:00+00:00                 16.0  \n",
       "53438  2001-11-28 19:55:07+00:00                  0.0  \n",
       "284235 2001-04-11 09:41:00+00:00                  0.0  \n",
       "368857 2001-11-13 11:04:37+00:00                  0.0  \n",
       "252824 2000-03-28 11:18:00+00:00                  0.0  \n",
       "74753  2001-05-10 14:31:00+00:00                  4.0  \n",
       "257494 2001-12-20 00:16:52+00:00                  2.0  \n",
       "64476  2000-12-13 17:05:00+00:00                  1.0  \n",
       "150363 2001-04-22 05:43:00+00:00                  0.0  \n",
       "65424  2001-01-11 14:52:00+00:00                  0.0  \n",
       "362325 2000-11-14 17:59:00+00:00                  1.0  \n",
       "17396  2000-08-11 12:23:00+00:00                  0.0  \n",
       "183418 2000-07-31 10:26:00+00:00                  0.0  \n",
       "512852 2001-03-21 12:32:00+00:00                  0.0  \n",
       "276860 2001-05-01 11:17:00+00:00                  1.0  \n",
       "458690 2001-09-12 14:55:21+00:00                  1.0  \n",
       "283873 2001-04-22 20:40:00+00:00                  0.0  \n",
       "439704 2001-10-09 17:24:32+00:00                  1.0  \n",
       "4703   2001-11-20 14:38:09+00:00                  0.0  \n",
       "44767  2001-11-27 11:14:00+00:00                  0.0  \n",
       "34562  2001-06-27 23:02:00+00:00                  0.0  \n",
       "232909 2000-04-07 12:45:00+00:00                  1.0  \n",
       "447967 2001-01-26 18:00:00+00:00                  0.0  \n",
       "503542 2001-06-04 15:42:00+00:00                  0.0  \n",
       "49176  2001-09-27 21:44:33+00:00                  1.0  \n",
       "41063  2001-05-21 09:11:00+00:00                  0.0  \n",
       "328112 2001-06-05 13:58:00+00:00                  0.0  \n",
       "63025  2000-11-13 11:31:00+00:00                  0.0  \n",
       "439804 2001-06-05 09:38:00+00:00                  0.0  "
      ],
      "text/html": [
       "<div>\n",
       "<style scoped>\n",
       "    .dataframe tbody tr th:only-of-type {\n",
       "        vertical-align: middle;\n",
       "    }\n",
       "\n",
       "    .dataframe tbody tr th {\n",
       "        vertical-align: top;\n",
       "    }\n",
       "\n",
       "    .dataframe thead th {\n",
       "        text-align: right;\n",
       "    }\n",
       "</style>\n",
       "<table border=\"1\" class=\"dataframe\">\n",
       "  <thead>\n",
       "    <tr style=\"text-align: right;\">\n",
       "      <th></th>\n",
       "      <th>From</th>\n",
       "      <th>To</th>\n",
       "      <th>Subject</th>\n",
       "      <th>Date</th>\n",
       "      <th>fraud_score_percent</th>\n",
       "    </tr>\n",
       "  </thead>\n",
       "  <tbody>\n",
       "    <tr>\n",
       "      <th>87679</th>\n",
       "      <td>pete.davis@enron.com</td>\n",
       "      <td>pete.davis@enron.com</td>\n",
       "      <td>Start Date: 10/9/01; HourAhead hour: 20;  &lt;COD...</td>\n",
       "      <td>2001-10-10 00:38:23+00:00</td>\n",
       "      <td>0.0</td>\n",
       "    </tr>\n",
       "    <tr>\n",
       "      <th>155335</th>\n",
       "      <td>paul.devries@enron.com</td>\n",
       "      <td>stephen.douglas@enron.com</td>\n",
       "      <td>Re: Tax Planning - Privileged Solicitor/Client...</td>\n",
       "      <td>2000-11-16 14:08:00+00:00</td>\n",
       "      <td>2.0</td>\n",
       "    </tr>\n",
       "    <tr>\n",
       "      <th>314985</th>\n",
       "      <td>kay.mann@enron.com</td>\n",
       "      <td>matthew.gockerman@enron.com</td>\n",
       "      <td>CA I and II Bills of Sale</td>\n",
       "      <td>2001-01-10 11:13:00+00:00</td>\n",
       "      <td>0.0</td>\n",
       "    </tr>\n",
       "    <tr>\n",
       "      <th>398390</th>\n",
       "      <td>richard.sanders@enron.com</td>\n",
       "      <td>ctetrault@velaw.com</td>\n",
       "      <td>Re: DOJ</td>\n",
       "      <td>2000-03-07 20:18:00+00:00</td>\n",
       "      <td>0.0</td>\n",
       "    </tr>\n",
       "    <tr>\n",
       "      <th>301575</th>\n",
       "      <td>kay.mann@enron.com</td>\n",
       "      <td>suzanne.adams@enron.com</td>\n",
       "      <td>Coop City</td>\n",
       "      <td>2001-01-04 18:00:00+00:00</td>\n",
       "      <td>1.0</td>\n",
       "    </tr>\n",
       "    <tr>\n",
       "      <th>102647</th>\n",
       "      <td>megan.parker@enron.com</td>\n",
       "      <td>daren.farmer@enron.com</td>\n",
       "      <td>Re: Duke Cashout Entries 5/00 and 6/00</td>\n",
       "      <td>2000-10-05 17:08:00+00:00</td>\n",
       "      <td>0.0</td>\n",
       "    </tr>\n",
       "    <tr>\n",
       "      <th>50899</th>\n",
       "      <td>e..carter@enron.com</td>\n",
       "      <td>monika.causholli@enron.com</td>\n",
       "      <td>RE: Chilean pulp capacity</td>\n",
       "      <td>2001-10-17 16:02:05+00:00</td>\n",
       "      <td>0.0</td>\n",
       "    </tr>\n",
       "    <tr>\n",
       "      <th>402169</th>\n",
       "      <td>tk.lohman@enron.com</td>\n",
       "      <td>vincent.strohmeyer@enron.com, debbie.moseley@e...</td>\n",
       "      <td>Confirmations</td>\n",
       "      <td>2002-02-08 14:52:12+00:00</td>\n",
       "      <td>0.0</td>\n",
       "    </tr>\n",
       "    <tr>\n",
       "      <th>510881</th>\n",
       "      <td>pete.davis@enron.com</td>\n",
       "      <td>pete.davis@enron.com</td>\n",
       "      <td>Start Date: 1/31/02; HourAhead hour: 3;</td>\n",
       "      <td>2002-01-31 12:37:04+00:00</td>\n",
       "      <td>0.0</td>\n",
       "    </tr>\n",
       "    <tr>\n",
       "      <th>38990</th>\n",
       "      <td>shirley.cox@enron.com</td>\n",
       "      <td>clement.abrams@enron.com, naveen.andrews@enron...</td>\n",
       "      <td>Mid-Year Purge - PEP System</td>\n",
       "      <td>2001-08-29 20:01:13+00:00</td>\n",
       "      <td>8.0</td>\n",
       "    </tr>\n",
       "    <tr>\n",
       "      <th>482707</th>\n",
       "      <td>nina.edmonds@enron.com</td>\n",
       "      <td>mark.taylor@enron.com</td>\n",
       "      <td>Re: Bankruptcy Swaps with Canadian Reference E...</td>\n",
       "      <td>2000-05-16 15:15:00+00:00</td>\n",
       "      <td>0.0</td>\n",
       "    </tr>\n",
       "    <tr>\n",
       "      <th>92671</th>\n",
       "      <td>announcements.enron@enron.com</td>\n",
       "      <td>dl-ga-all_enron_houston_employees@enron.com</td>\n",
       "      <td>Metro Bus Passes and Woodlands Express Passes ...</td>\n",
       "      <td>2001-12-28 17:04:54+00:00</td>\n",
       "      <td>0.0</td>\n",
       "    </tr>\n",
       "    <tr>\n",
       "      <th>490517</th>\n",
       "      <td>jeff.dasovich@enron.com</td>\n",
       "      <td>barry.tycholiz@enron.com, f..calger@enron.com,...</td>\n",
       "      <td>Reaction to PG&amp;E's Proposed Reorganization</td>\n",
       "      <td>2001-09-21 17:06:15+00:00</td>\n",
       "      <td>89.0</td>\n",
       "    </tr>\n",
       "    <tr>\n",
       "      <th>88082</th>\n",
       "      <td>kayne.coulter@enron.com</td>\n",
       "      <td>jim.homco@enron.com, lloyd.will@enron.com, jef...</td>\n",
       "      <td>clarksdale generation</td>\n",
       "      <td>2001-05-15 07:35:00+00:00</td>\n",
       "      <td>0.0</td>\n",
       "    </tr>\n",
       "    <tr>\n",
       "      <th>230266</th>\n",
       "      <td>jeff.dasovich@enron.com</td>\n",
       "      <td>alan.comnes@enron.com, angela.schwarz@enron.co...</td>\n",
       "      <td>Comments /Letter--DWR Credit and Direct Access</td>\n",
       "      <td>2001-03-02 19:42:00+00:00</td>\n",
       "      <td>100.0</td>\n",
       "    </tr>\n",
       "    <tr>\n",
       "      <th>248133</th>\n",
       "      <td>steven.kean@enron.com</td>\n",
       "      <td>None</td>\n",
       "      <td>Rick to Cover</td>\n",
       "      <td>1997-09-16 08:00:00+00:00</td>\n",
       "      <td>0.0</td>\n",
       "    </tr>\n",
       "    <tr>\n",
       "      <th>317242</th>\n",
       "      <td>kay.mann@enron.com</td>\n",
       "      <td>wmontjoy@brunini.com</td>\n",
       "      <td>Clarksdale</td>\n",
       "      <td>2001-06-05 06:25:00+00:00</td>\n",
       "      <td>0.0</td>\n",
       "    </tr>\n",
       "    <tr>\n",
       "      <th>339235</th>\n",
       "      <td>about-healthextra@aboutdirect.net</td>\n",
       "      <td>pmims@enron.com</td>\n",
       "      <td>Play Now! - Choose from over 35 gift items!</td>\n",
       "      <td>2001-11-07 04:04:45+00:00</td>\n",
       "      <td>0.0</td>\n",
       "    </tr>\n",
       "    <tr>\n",
       "      <th>295130</th>\n",
       "      <td>m..love@enron.com</td>\n",
       "      <td>lisa.kinsey@enron.com</td>\n",
       "      <td>RE: meeting with our two groups</td>\n",
       "      <td>2001-10-11 18:36:49+00:00</td>\n",
       "      <td>1.0</td>\n",
       "    </tr>\n",
       "    <tr>\n",
       "      <th>186273</th>\n",
       "      <td>sara.shackleton@enron.com</td>\n",
       "      <td>tana.jones@enron.com</td>\n",
       "      <td>Lotus Notes Database link</td>\n",
       "      <td>2000-11-22 16:23:00+00:00</td>\n",
       "      <td>0.0</td>\n",
       "    </tr>\n",
       "    <tr>\n",
       "      <th>362281</th>\n",
       "      <td>debra.perlingiere@enron.com</td>\n",
       "      <td>kdirks@utilicorp.com</td>\n",
       "      <td>Re: Response to HPL's requested changes</td>\n",
       "      <td>2000-11-02 14:52:00+00:00</td>\n",
       "      <td>0.0</td>\n",
       "    </tr>\n",
       "    <tr>\n",
       "      <th>261213</th>\n",
       "      <td>ron.coker@enron.com</td>\n",
       "      <td>eric.thode@enron.com</td>\n",
       "      <td>Re: DRAFT PRESS RELEASE: Sale of Pastoria to C...</td>\n",
       "      <td>2001-03-20 02:29:00+00:00</td>\n",
       "      <td>16.0</td>\n",
       "    </tr>\n",
       "    <tr>\n",
       "      <th>53438</th>\n",
       "      <td>shelley.corman@enron.com</td>\n",
       "      <td>alma.carrillo@enron.com</td>\n",
       "      <td>RE: Possibily of Delaying/Postponing Tomorrow'...</td>\n",
       "      <td>2001-11-28 19:55:07+00:00</td>\n",
       "      <td>0.0</td>\n",
       "    </tr>\n",
       "    <tr>\n",
       "      <th>284235</th>\n",
       "      <td>rudy.sutherland@enron.com</td>\n",
       "      <td>anthony.tran@enron.com</td>\n",
       "      <td>RE: Reply Requested: Do You Code Or Approve In...</td>\n",
       "      <td>2001-04-11 09:41:00+00:00</td>\n",
       "      <td>0.0</td>\n",
       "    </tr>\n",
       "    <tr>\n",
       "      <th>368857</th>\n",
       "      <td>nytdirect@nytimes.com</td>\n",
       "      <td>brapp@enron.com</td>\n",
       "      <td>Today's Headlines from NYTimes.com Tuesday, No...</td>\n",
       "      <td>2001-11-13 11:04:37+00:00</td>\n",
       "      <td>0.0</td>\n",
       "    </tr>\n",
       "    <tr>\n",
       "      <th>252824</th>\n",
       "      <td>peter.keavey@enron.com</td>\n",
       "      <td>dale.neuner@enron.com, david.forster@enron.com</td>\n",
       "      <td>gas daily index</td>\n",
       "      <td>2000-03-28 11:18:00+00:00</td>\n",
       "      <td>0.0</td>\n",
       "    </tr>\n",
       "    <tr>\n",
       "      <th>74753</th>\n",
       "      <td>harry.kingerski@enron.com</td>\n",
       "      <td>harry.kingerski@enron.com</td>\n",
       "      <td>Re: Rate design for 3 cent Rate increase for P...</td>\n",
       "      <td>2001-05-10 14:31:00+00:00</td>\n",
       "      <td>4.0</td>\n",
       "    </tr>\n",
       "    <tr>\n",
       "      <th>257494</th>\n",
       "      <td>louise.kitchen@enron.com</td>\n",
       "      <td>greg.whalley@enron.com</td>\n",
       "      <td>FW: Letter to Stephen Baum re Solicitation of ...</td>\n",
       "      <td>2001-12-20 00:16:52+00:00</td>\n",
       "      <td>2.0</td>\n",
       "    </tr>\n",
       "    <tr>\n",
       "      <th>64476</th>\n",
       "      <td>margo.reyna@enron.com</td>\n",
       "      <td>sue.nord@enron.com, scott.bolton@enron.com, tr...</td>\n",
       "      <td>Articles</td>\n",
       "      <td>2000-12-13 17:05:00+00:00</td>\n",
       "      <td>1.0</td>\n",
       "    </tr>\n",
       "    <tr>\n",
       "      <th>150363</th>\n",
       "      <td>pete.davis@enron.com</td>\n",
       "      <td>pete.davis@enron.com</td>\n",
       "      <td>Start Date: 4/22/01; HourAhead hour: 6;  &lt;CODE...</td>\n",
       "      <td>2001-04-22 05:43:00+00:00</td>\n",
       "      <td>0.0</td>\n",
       "    </tr>\n",
       "    <tr>\n",
       "      <th>65424</th>\n",
       "      <td>jeff.dasovich@enron.com</td>\n",
       "      <td>cameron@perfect.com</td>\n",
       "      <td>RE: you and me</td>\n",
       "      <td>2001-01-11 14:52:00+00:00</td>\n",
       "      <td>0.0</td>\n",
       "    </tr>\n",
       "    <tr>\n",
       "      <th>362325</th>\n",
       "      <td>debra.perlingiere@enron.com</td>\n",
       "      <td>tammi.depaolis@enron.com</td>\n",
       "      <td>ProLiance Energy, LLC  GISB</td>\n",
       "      <td>2000-11-14 17:59:00+00:00</td>\n",
       "      <td>1.0</td>\n",
       "    </tr>\n",
       "    <tr>\n",
       "      <th>17396</th>\n",
       "      <td>eric.bass@enron.com</td>\n",
       "      <td>daphneco64@bigplanet.com</td>\n",
       "      <td>Re: ArcaMax Weird News for August 11, 2000</td>\n",
       "      <td>2000-08-11 12:23:00+00:00</td>\n",
       "      <td>0.0</td>\n",
       "    </tr>\n",
       "    <tr>\n",
       "      <th>183418</th>\n",
       "      <td>brad.schneider@enron.com</td>\n",
       "      <td>tana.jones@enron.com</td>\n",
       "      <td>New ISDA - Enron Midwest LLC</td>\n",
       "      <td>2000-07-31 10:26:00+00:00</td>\n",
       "      <td>0.0</td>\n",
       "    </tr>\n",
       "    <tr>\n",
       "      <th>512852</th>\n",
       "      <td>beth.cherry@enform.com</td>\n",
       "      <td>jason.wolfe@enron.com</td>\n",
       "      <td>RE: The Mask of Everlasting Joy</td>\n",
       "      <td>2001-03-21 12:32:00+00:00</td>\n",
       "      <td>0.0</td>\n",
       "    </tr>\n",
       "    <tr>\n",
       "      <th>276860</th>\n",
       "      <td>lisa.gillette@enron.com</td>\n",
       "      <td>matthew.lenhart@enron.com</td>\n",
       "      <td>RE: FW: Happy Hour Tonight</td>\n",
       "      <td>2001-05-01 11:17:00+00:00</td>\n",
       "      <td>1.0</td>\n",
       "    </tr>\n",
       "    <tr>\n",
       "      <th>458690</th>\n",
       "      <td>chris.stokley@enron.com</td>\n",
       "      <td>40enron@enron.com</td>\n",
       "      <td>RE: Reschedule - Chris Stokley &amp; Paige - 3AC16...</td>\n",
       "      <td>2001-09-12 14:55:21+00:00</td>\n",
       "      <td>1.0</td>\n",
       "    </tr>\n",
       "    <tr>\n",
       "      <th>283873</th>\n",
       "      <td>pete.davis@enron.com</td>\n",
       "      <td>pete.davis@enron.com</td>\n",
       "      <td>Schedule Crawler: HourAhead Failure &lt;CODESITE&gt;</td>\n",
       "      <td>2001-04-22 20:40:00+00:00</td>\n",
       "      <td>0.0</td>\n",
       "    </tr>\n",
       "    <tr>\n",
       "      <th>439704</th>\n",
       "      <td>houstonbroadwayseries@clearchannel.com</td>\n",
       "      <td>rshapiro@enron.com</td>\n",
       "      <td>Broadway Across America - Ticket Request Proce...</td>\n",
       "      <td>2001-10-09 17:24:32+00:00</td>\n",
       "      <td>1.0</td>\n",
       "    </tr>\n",
       "    <tr>\n",
       "      <th>4703</th>\n",
       "      <td>george.ellis@americas.bnpparibas.com</td>\n",
       "      <td>george.ellis@americas.bnpparibas.com</td>\n",
       "      <td>NYMEX Thanksgiving Schedule</td>\n",
       "      <td>2001-11-20 14:38:09+00:00</td>\n",
       "      <td>0.0</td>\n",
       "    </tr>\n",
       "    <tr>\n",
       "      <th>44767</th>\n",
       "      <td>rd_cates@yahoo.com</td>\n",
       "      <td>larry.campbell@enron.com</td>\n",
       "      <td>Re: Fwd: Fw: Fwd: Fw: husband</td>\n",
       "      <td>2001-11-27 11:14:00+00:00</td>\n",
       "      <td>0.0</td>\n",
       "    </tr>\n",
       "    <tr>\n",
       "      <th>34562</th>\n",
       "      <td>outlook.team@enron.com</td>\n",
       "      <td>None</td>\n",
       "      <td>John Buchanan on vacation</td>\n",
       "      <td>2001-06-27 23:02:00+00:00</td>\n",
       "      <td>0.0</td>\n",
       "    </tr>\n",
       "    <tr>\n",
       "      <th>232909</th>\n",
       "      <td>richard.shapiro@enron.com</td>\n",
       "      <td>steven.kean@enron.com</td>\n",
       "      <td>Attached Files</td>\n",
       "      <td>2000-04-07 12:45:00+00:00</td>\n",
       "      <td>1.0</td>\n",
       "    </tr>\n",
       "    <tr>\n",
       "      <th>447967</th>\n",
       "      <td>matt.smith@enron.com</td>\n",
       "      <td>andrea.richards@enron.com</td>\n",
       "      <td>Re: Associate Rotation</td>\n",
       "      <td>2001-01-26 18:00:00+00:00</td>\n",
       "      <td>0.0</td>\n",
       "    </tr>\n",
       "    <tr>\n",
       "      <th>503542</th>\n",
       "      <td>liz.taylor@enron.com</td>\n",
       "      <td>richard.lewis@enron.com</td>\n",
       "      <td>Whalley's Visit to London</td>\n",
       "      <td>2001-06-04 15:42:00+00:00</td>\n",
       "      <td>0.0</td>\n",
       "    </tr>\n",
       "    <tr>\n",
       "      <th>49176</th>\n",
       "      <td>simone.lewis@enron.com</td>\n",
       "      <td>michelle.cash@enron.com, chris.rahaim@enron.co...</td>\n",
       "      <td>Mergers, Acquisitions and Divestitures checklists</td>\n",
       "      <td>2001-09-27 21:44:33+00:00</td>\n",
       "      <td>1.0</td>\n",
       "    </tr>\n",
       "    <tr>\n",
       "      <th>41063</th>\n",
       "      <td>larry.campbell@enron.com</td>\n",
       "      <td>william.kendrick.enronxgate@enron.com</td>\n",
       "      <td>Re: FW: Mewborne - Quercho Bone Springs Unit -...</td>\n",
       "      <td>2001-05-21 09:11:00+00:00</td>\n",
       "      <td>0.0</td>\n",
       "    </tr>\n",
       "    <tr>\n",
       "      <th>328112</th>\n",
       "      <td>mike.mcconnell@enron.com</td>\n",
       "      <td>per.sekse@enron.com</td>\n",
       "      <td>Signed dashes</td>\n",
       "      <td>2001-06-05 13:58:00+00:00</td>\n",
       "      <td>0.0</td>\n",
       "    </tr>\n",
       "    <tr>\n",
       "      <th>63025</th>\n",
       "      <td>ginger.dernehl@enron.com</td>\n",
       "      <td>alan.comnes@enron.com, aleck.dadson@enron.com,...</td>\n",
       "      <td>FERC Staff Report on Northeast Markets</td>\n",
       "      <td>2000-11-13 11:31:00+00:00</td>\n",
       "      <td>0.0</td>\n",
       "    </tr>\n",
       "    <tr>\n",
       "      <th>439804</th>\n",
       "      <td>sue.nord@enron.com</td>\n",
       "      <td>richard.shapiro@enron.com</td>\n",
       "      <td>Re: One view from DC</td>\n",
       "      <td>2001-06-05 09:38:00+00:00</td>\n",
       "      <td>0.0</td>\n",
       "    </tr>\n",
       "  </tbody>\n",
       "</table>\n",
       "</div>"
      ]
     },
     "execution_count": 143,
     "metadata": {},
     "output_type": "execute_result"
    }
   ],
   "execution_count": 143
  },
  {
   "metadata": {},
   "cell_type": "markdown",
   "source": "### (2) 生成POI活动摘要",
   "id": "5a1e524c9829f8c2"
  },
  {
   "metadata": {
    "ExecuteTime": {
     "end_time": "2025-05-10T07:47:14.081620Z",
     "start_time": "2025-05-10T07:47:13.033171Z"
    }
   },
   "cell_type": "code",
   "source": [
    "# 生成POI活动摘要\n",
    "poi_activity = email_df[email_df['poi_related']].groupby(\n",
    "    email_df['From_clean'].apply(lambda x: x[0] if x else 'unknown')\n",
    ").agg({\n",
    "    'fraud_score': 'mean',\n",
    "    'From': 'count',\n",
    "    'has_attachment': 'sum',\n",
    "    'after_hours': 'sum'\n",
    "}).rename(columns={'From': 'email_count', 'has_attachment': 'attachments', 'after_hours': 'after_hours_emails'})\n",
    "\n",
    "poi_activity.sort_values('fraud_score', ascending=False)"
   ],
   "id": "18f71da3668cb6c9",
   "outputs": [
    {
     "data": {
      "text/plain": [
       "                                fraud_score  email_count  attachments  \\\n",
       "From_clean                                                              \n",
       "110165.74@compuserve.com               1.00            1            0   \n",
       "marlya0264@aol.com                     1.00            1            0   \n",
       "duchess6206@yahoo.com                  1.00            1            0   \n",
       "dtharpe@mac1988.com                    1.00            1            0   \n",
       "dsjames@tribune.com                    1.00            1            0   \n",
       "...                                     ...          ...          ...   \n",
       "susan.gardenfeld@weil.com              0.01            1            0   \n",
       "wired@condenast.flonetwork.com         0.01            1            0   \n",
       "dalak@hotmail.com                      0.00            1            0   \n",
       "evite@enron.com                        0.00            1            0   \n",
       "dlaws@houston.rr.com                   0.00            1            0   \n",
       "\n",
       "                                after_hours_emails  \n",
       "From_clean                                          \n",
       "110165.74@compuserve.com                         0  \n",
       "marlya0264@aol.com                               0  \n",
       "duchess6206@yahoo.com                            1  \n",
       "dtharpe@mac1988.com                              0  \n",
       "dsjames@tribune.com                              0  \n",
       "...                                            ...  \n",
       "susan.gardenfeld@weil.com                        0  \n",
       "wired@condenast.flonetwork.com                   1  \n",
       "dalak@hotmail.com                                1  \n",
       "evite@enron.com                                  1  \n",
       "dlaws@houston.rr.com                             1  \n",
       "\n",
       "[3456 rows x 4 columns]"
      ],
      "text/html": [
       "<div>\n",
       "<style scoped>\n",
       "    .dataframe tbody tr th:only-of-type {\n",
       "        vertical-align: middle;\n",
       "    }\n",
       "\n",
       "    .dataframe tbody tr th {\n",
       "        vertical-align: top;\n",
       "    }\n",
       "\n",
       "    .dataframe thead th {\n",
       "        text-align: right;\n",
       "    }\n",
       "</style>\n",
       "<table border=\"1\" class=\"dataframe\">\n",
       "  <thead>\n",
       "    <tr style=\"text-align: right;\">\n",
       "      <th></th>\n",
       "      <th>fraud_score</th>\n",
       "      <th>email_count</th>\n",
       "      <th>attachments</th>\n",
       "      <th>after_hours_emails</th>\n",
       "    </tr>\n",
       "    <tr>\n",
       "      <th>From_clean</th>\n",
       "      <th></th>\n",
       "      <th></th>\n",
       "      <th></th>\n",
       "      <th></th>\n",
       "    </tr>\n",
       "  </thead>\n",
       "  <tbody>\n",
       "    <tr>\n",
       "      <th>110165.74@compuserve.com</th>\n",
       "      <td>1.00</td>\n",
       "      <td>1</td>\n",
       "      <td>0</td>\n",
       "      <td>0</td>\n",
       "    </tr>\n",
       "    <tr>\n",
       "      <th>marlya0264@aol.com</th>\n",
       "      <td>1.00</td>\n",
       "      <td>1</td>\n",
       "      <td>0</td>\n",
       "      <td>0</td>\n",
       "    </tr>\n",
       "    <tr>\n",
       "      <th>duchess6206@yahoo.com</th>\n",
       "      <td>1.00</td>\n",
       "      <td>1</td>\n",
       "      <td>0</td>\n",
       "      <td>1</td>\n",
       "    </tr>\n",
       "    <tr>\n",
       "      <th>dtharpe@mac1988.com</th>\n",
       "      <td>1.00</td>\n",
       "      <td>1</td>\n",
       "      <td>0</td>\n",
       "      <td>0</td>\n",
       "    </tr>\n",
       "    <tr>\n",
       "      <th>dsjames@tribune.com</th>\n",
       "      <td>1.00</td>\n",
       "      <td>1</td>\n",
       "      <td>0</td>\n",
       "      <td>0</td>\n",
       "    </tr>\n",
       "    <tr>\n",
       "      <th>...</th>\n",
       "      <td>...</td>\n",
       "      <td>...</td>\n",
       "      <td>...</td>\n",
       "      <td>...</td>\n",
       "    </tr>\n",
       "    <tr>\n",
       "      <th>susan.gardenfeld@weil.com</th>\n",
       "      <td>0.01</td>\n",
       "      <td>1</td>\n",
       "      <td>0</td>\n",
       "      <td>0</td>\n",
       "    </tr>\n",
       "    <tr>\n",
       "      <th>wired@condenast.flonetwork.com</th>\n",
       "      <td>0.01</td>\n",
       "      <td>1</td>\n",
       "      <td>0</td>\n",
       "      <td>1</td>\n",
       "    </tr>\n",
       "    <tr>\n",
       "      <th>dalak@hotmail.com</th>\n",
       "      <td>0.00</td>\n",
       "      <td>1</td>\n",
       "      <td>0</td>\n",
       "      <td>1</td>\n",
       "    </tr>\n",
       "    <tr>\n",
       "      <th>evite@enron.com</th>\n",
       "      <td>0.00</td>\n",
       "      <td>1</td>\n",
       "      <td>0</td>\n",
       "      <td>1</td>\n",
       "    </tr>\n",
       "    <tr>\n",
       "      <th>dlaws@houston.rr.com</th>\n",
       "      <td>0.00</td>\n",
       "      <td>1</td>\n",
       "      <td>0</td>\n",
       "      <td>1</td>\n",
       "    </tr>\n",
       "  </tbody>\n",
       "</table>\n",
       "<p>3456 rows × 4 columns</p>\n",
       "</div>"
      ]
     },
     "execution_count": 136,
     "metadata": {},
     "output_type": "execute_result"
    }
   ],
   "execution_count": 136
  }
 ],
 "metadata": {
  "kernelspec": {
   "display_name": "Python 3",
   "language": "python",
   "name": "python3"
  },
  "language_info": {
   "codemirror_mode": {
    "name": "ipython",
    "version": 2
   },
   "file_extension": ".py",
   "mimetype": "text/x-python",
   "name": "python",
   "nbconvert_exporter": "python",
   "pygments_lexer": "ipython2",
   "version": "2.7.6"
  }
 },
 "nbformat": 4,
 "nbformat_minor": 5
}
